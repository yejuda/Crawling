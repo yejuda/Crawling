{
 "cells": [
  {
   "cell_type": "markdown",
   "id": "1631b911",
   "metadata": {},
   "source": [
    "# 인스타그램 태그 검색어로 이미지 크롤링\n",
    "\n",
    "검색했을때 나오는 약 30장만 크롤링 됨\n",
    "\n",
    "소스코드 : https://0ver-grow.tistory.com/997"
   ]
  },
  {
   "cell_type": "code",
   "execution_count": 29,
   "id": "e3ba3a6d",
   "metadata": {},
   "outputs": [],
   "source": [
    "# !pip install selenium\n",
    "# !pip install beautifulsoup4"
   ]
  },
  {
   "cell_type": "code",
   "execution_count": 1,
   "id": "8d857c8b",
   "metadata": {},
   "outputs": [],
   "source": [
    "from urllib.request import urlopen\n",
    "from urllib.parse import quote_plus as qp #아스키코드로 변환\n",
    "from bs4 import BeautifulSoup\n",
    "from selenium import webdriver\n",
    "import time"
   ]
  },
  {
   "cell_type": "markdown",
   "id": "14712c42",
   "metadata": {},
   "source": [
    "#### 검색어 입력 코드"
   ]
  },
  {
   "cell_type": "code",
   "execution_count": 2,
   "id": "c5e6144b",
   "metadata": {},
   "outputs": [
    {
     "name": "stdout",
     "output_type": "stream",
     "text": [
      "검색할 태그 입력: 망고 패션 프루트 블렌디드\n",
      "https://www.instagram.com/explore/tags/%EB%A7%9D%EA%B3%A0+%ED%8C%A8%EC%85%98+%ED%94%84%EB%A3%A8%ED%8A%B8+%EB%B8%94%EB%A0%8C%EB%94%94%EB%93%9C\n"
     ]
    }
   ],
   "source": [
    "baseurl = 'https://www.instagram.com/explore/tags/'\n",
    "plusurl = input('검색할 태그 입력: ')\n",
    "url = baseurl + qp(plusurl)\n",
    "print(url)"
   ]
  },
  {
   "cell_type": "markdown",
   "id": "f5e1f086",
   "metadata": {},
   "source": [
    "#### 이미지가 속한 공통적인 클래스 명으로 내용물 가져오기 \n",
    "> ._aabd._aa8k._aanf"
   ]
  },
  {
   "cell_type": "markdown",
   "id": "c2c3b737",
   "metadata": {},
   "source": [
    "#### 가져올 이미지의 a태그 속성 href 참고하여 이미지 주소 가져오기"
   ]
  },
  {
   "cell_type": "code",
   "execution_count": null,
   "id": "346bc78a",
   "metadata": {},
   "outputs": [],
   "source": [
    "driver = webdriver.Chrome()\n",
    "driver.get(url)\n",
    "time.sleep(3) #딜레이 방지용\n",
    "html = driver.page_source\n",
    "soup = BeautifulSoup(html)\n",
    "\n",
    "insta = soup.select('._aabd._aa8k._aanf')\n",
    "\n",
    "for i in insta:\n",
    "    print(i.a['href'])\n",
    "    \n",
    "driver.close()"
   ]
  },
  {
   "cell_type": "markdown",
   "id": "bd6721b2",
   "metadata": {},
   "source": [
    "#### 전체 코드"
   ]
  },
  {
   "cell_type": "code",
   "execution_count": 5,
   "id": "b3bbd63b",
   "metadata": {},
   "outputs": [
    {
     "name": "stdout",
     "output_type": "stream",
     "text": [
      "검색할 태그 입력: 망고 패션 프루트 블렌디드\n",
      "https://www.instagram.com/explore/tags/%EB%A7%9D%EA%B3%A0+%ED%8C%A8%EC%85%98+%ED%94%84%EB%A3%A8%ED%8A%B8+%EB%B8%94%EB%A0%8C%EB%94%94%EB%93%9C\n"
     ]
    }
   ],
   "source": [
    "baseurl = 'https://www.instagram.com/explore/tags/'\n",
    "plusurl = input('검색할 태그 입력: ')\n",
    "url = baseurl + qp(plusurl)\n",
    "print(url)\n",
    "\n",
    "driver = webdriver.Chrome()\n",
    "driver.get(url)\n",
    "time.sleep(3) #딜레이 방지용\n",
    "html = driver.page_source\n",
    "soup = BeautifulSoup(html)\n",
    "\n",
    "insta = soup.select('._aabd._aa8k._aanf')\n",
    "\n",
    "n = 1\n",
    "for i in insta:\n",
    "    print(\"https://www.instagram.com\"+i.a['href']) # a태그의 속성 href만 가져오기\n",
    "    imgUrl = i.select_one('._aagv').img['src']\n",
    "    \n",
    "    with urlopen(imgUrl) as f:\n",
    "        with open('./img/'+plusurl+str(n)+'.jpg','wb') as h:\n",
    "            img = f.read()\n",
    "            h.write(img)\n",
    "        n += 1\n",
    "        \n",
    "driver.close()"
   ]
  },
  {
   "cell_type": "markdown",
   "id": "02357958",
   "metadata": {},
   "source": [
    "# 인스타그램 검색어로 이미지 크롤링 2\n",
    "\n",
    "스크롤 내라고, 페이지 바꿔가며 이미지 저장 가능하도록\n",
    "\n",
    "소스코드 : https://dahaha.tistory.com/76"
   ]
  },
  {
   "cell_type": "code",
   "execution_count": 6,
   "id": "6e658a62",
   "metadata": {},
   "outputs": [],
   "source": [
    "from urllib.request import urlopen\n",
    "from urllib.parse import quote_plus as qp #아스키코드로 변환\n",
    "from bs4 import BeautifulSoup\n",
    "from selenium import webdriver\n",
    "import time\n",
    "import requests\n",
    "import shutil"
   ]
  },
  {
   "cell_type": "code",
   "execution_count": null,
   "id": "ee585c79",
   "metadata": {},
   "outputs": [],
   "source": [
    "baseurl = 'https://www.instagram.com/explore/tags/'\n",
    "plusurl = input('검색할 태그 입력: ')\n",
    "url = baseurl + qp(plusurl)\n",
    "\n",
    "driver = webdriver.Chrome()\n",
    "driver.get(url)\n",
    "\n",
    "time.sleep(3)\n",
    "\n",
    "html = driver.page_source\n",
    "soup = BeautifulSoup(html)\n",
    "\n",
    "imglist = []\n",
    "\n",
    "for j in range(0, 15): #스크롤 내리는 반복 횟수\n",
    "    insta = soup.select('._aabd._aa8k._aanf')\n",
    "    \n",
    "    for i in insta:\n",
    "        print(\"https://www.instagram.com\"+i.a['href']) # a태그의 속성 href만 가져오기\n",
    "        imgUrl = i.select_one('._aagv').img['src']\n",
    "        imglist.append(imgUrl)\n",
    "        imglist = list(set(imglist))\n",
    "        html = driver.page_source\n",
    "        soup = BeautifulSoup(html)\n",
    "        insta = soup.select('._aabd._aa8k._aanf')\n",
    "    \n",
    "    driver.execute_script('window.scrollTo(0, document.body.scrollHeight);')\n",
    "    time.sleep(2)\n",
    "    \n",
    "n = 0\n",
    "\n",
    "for i in range(0,100):\n",
    "    # this is the image url\n",
    "    image_url = imglist[n]\n",
    "    # open the url image, set stream to True, this will return the stream content.\n",
    "\n",
    "    resp = requests.get(image_url, stream=True)\n",
    "    #Open a local file with wb{write binary} permission\n",
    "\n",
    "    local_file = open('./img/'+plusurl+str(n)+'.jpg','wb')\n",
    "    # Set decode_content value to True, otherwise the downloaded image file's size will be zero\n",
    "    resp.raw.decode_content = True\n",
    "    # Copy the response stream raw data to local image file\n",
    "    shutil.copyfileobj(resp.raw, local_file)\n",
    "    # Remove the image url response object\n",
    "    n += 1\n",
    "    del resp\n",
    "    \n",
    "        \n",
    "driver.close()"
   ]
  },
  {
   "cell_type": "code",
   "execution_count": null,
   "id": "c76794fd",
   "metadata": {},
   "outputs": [],
   "source": [
    "imglist"
   ]
  }
 ],
 "metadata": {
  "kernelspec": {
   "display_name": "Python 3 (ipykernel)",
   "language": "python",
   "name": "python3"
  },
  "language_info": {
   "codemirror_mode": {
    "name": "ipython",
    "version": 3
   },
   "file_extension": ".py",
   "mimetype": "text/x-python",
   "name": "python",
   "nbconvert_exporter": "python",
   "pygments_lexer": "ipython3",
   "version": "3.9.13"
  }
 },
 "nbformat": 4,
 "nbformat_minor": 5
}
