{
 "cells": [
  {
   "cell_type": "markdown",
   "id": "e45d8cac",
   "metadata": {},
   "source": [
    "## 네이버 이미지 크롤링"
   ]
  },
  {
   "cell_type": "code",
   "execution_count": 13,
   "id": "b1a62679",
   "metadata": {},
   "outputs": [
    {
     "name": "stdout",
     "output_type": "stream",
     "text": [
      "검색할 단어를 입력: 단풍명소\n"
     ]
    }
   ],
   "source": [
    "import urllib.request\n",
    "from urllib.request import urlopen\n",
    "from bs4 import BeautifulSoup\n",
    "\n",
    "from selenium import webdriver\n",
    "from selenium.webdriver.common.keys import Keys\n",
    "# 웹 애플리케이션의 테스트를 자동화하기 위한 프레임워크\n",
    "# 손으로 마우스를 클릭해서 데이터를 검색하고 스크롤링 할 수 있다\n",
    "\n",
    "import time\n",
    "# 중간마다 sleep을 걸어야 한다.\n",
    "\n",
    "driver = webdriver.Chrome()\n",
    "driver.get(\"https://search.naver.com/search.naver?where=image&amp;sm=stb_nmr&amp;\")\n",
    "element = driver.find_element(\"id\", \"nx_query\")\n",
    "\n",
    "search_keyword = input(\"검색할 단어를 입력: \")\n",
    "element.send_keys(search_keyword)\n",
    "element.submit()\n",
    "\n",
    "# 스크롤링을 반복할 횟수\n",
    "for i in range(1, 3):\n",
    "    driver.find_element(\"xpath\", '//body').send_keys(Keys.END)\n",
    "    # 웹창을 클릭 후 END키를 누르는 동작\n",
    "    # 브라우저 아무데서나 END키 누른다고 페이지가 내려가지 않는다.\n",
    "    # body를 활성화한 후 스크롤 동작\n",
    "    \n",
    "    time.sleep(10)\n",
    "    # 이미지가 로드되는 속도를 10초로 설정\n",
    "    # 로드가 되지 않은 상태에서 저장하게 되면 No image로 뜬다.\n",
    "    \n",
    "\n",
    "time.sleep(5)\n",
    "# 네트워크 속도를 위해 5초 sleep 걸기\n",
    "\n",
    "html = driver.page_source\n",
    "# 크롬 브라우저에서 현재 불러온 소스 코드를 가져옴\n",
    "\n",
    "soup = BeautifulSoup(html, 'lxml')\n",
    "\n",
    "imgList = soup.find_all(\"img\", class_=\"_image _listImage\")\n",
    "\n",
    "def fetch_list_url():\n",
    "    # 이미지를 url이 있는 img 태그의 img 클래스로 간다\n",
    "    params = []\n",
    "    imgList = soup.find_all(\"img\", class_=\"_image _listImage\")\n",
    "    \n",
    "    for im in imgList:\n",
    "        # 불러오지 못하는 이미지의 src 경로는 data-lazy-src에 있으므로 \n",
    "        # try와 except 이용하여 둘 중에 하나로 불러오는 조건문 달기 !!\n",
    "        # 여기가 제일제일 중요함!\n",
    "        try:\n",
    "            params.append(im[\"data-lazy-src\"])\n",
    "            \n",
    "        except:\n",
    "            params.append(im[\"src\"])\n",
    "\n",
    "    return params\n",
    "\n",
    "def fetch_detail_url():\n",
    "    params = fetch_list_url()\n",
    "    a = 1\n",
    "    \n",
    "    for p in params:\n",
    "        # 다운받을 폴더경로 입력\n",
    "        urllib.request.urlretrieve(p, \"./a/\" + search_keyword + str(a) + \".jpg\")\n",
    "        a += 1\n",
    "        \n",
    "fetch_detail_url()\n",
    "\n",
    "\n",
    "# 브라우저 창 닫기\n",
    "driver.quit()"
   ]
  },
  {
   "cell_type": "code",
   "execution_count": null,
   "id": "b63271da",
   "metadata": {},
   "outputs": [],
   "source": []
  }
 ],
 "metadata": {
  "kernelspec": {
   "display_name": "Python 3 (ipykernel)",
   "language": "python",
   "name": "python3"
  },
  "language_info": {
   "codemirror_mode": {
    "name": "ipython",
    "version": 3
   },
   "file_extension": ".py",
   "mimetype": "text/x-python",
   "name": "python",
   "nbconvert_exporter": "python",
   "pygments_lexer": "ipython3",
   "version": "3.9.13"
  }
 },
 "nbformat": 4,
 "nbformat_minor": 5
}
