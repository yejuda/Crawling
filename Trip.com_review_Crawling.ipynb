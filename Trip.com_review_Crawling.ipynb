{
 "cells": [
  {
   "cell_type": "markdown",
   "id": "d3de25e5",
   "metadata": {},
   "source": [
    "## 트립닷컴 리뷰 크롤링"
   ]
  },
  {
   "cell_type": "code",
   "execution_count": 1,
   "id": "e9b60ec0",
   "metadata": {},
   "outputs": [],
   "source": [
    "from bs4 import BeautifulSoup\n",
    "from selenium import webdriver\n",
    "from pprint import pprint"
   ]
  },
  {
   "cell_type": "markdown",
   "id": "a309b02c",
   "metadata": {},
   "source": [
    "## 리뷰 한개만 크롤링"
   ]
  },
  {
   "cell_type": "code",
   "execution_count": 10,
   "id": "3ba9350f",
   "metadata": {},
   "outputs": [
    {
     "name": "stderr",
     "output_type": "stream",
     "text": [
      "C:\\Users\\이예주\\AppData\\Local\\Temp\\ipykernel_7928\\1297057207.py:2: DeprecationWarning: executable_path has been deprecated, please pass in a Service object\n",
      "  dr = webdriver.Chrome('C:/webdriver/chromedriver.exe')\n"
     ]
    },
    {
     "name": "stdout",
     "output_type": "stream",
     "text": [
      "[<h1 class=\"basicName\">N서울타워</h1>]\n",
      "[<a alt=\"남산타워는 서울의 명소로 꼬옥 가봐야 합니다  근데 남산 타워 케이블카를 타로 갈때 지하철 회현역 앞에 있는  요기 사진의 무료 에스카레이터를 꼭 타 봐야 합니다. 요걸 타고 올라가면서 서울 시청도 보구요. 내리면 바로 앞 건물이 케이블카를 타는 곳이라는 사실. 정말 Good 입니다요 ^^\"><p class=\"hover-pointer show-lines-review-text-5\">남산타워는 서울의 명소로 꼬옥 가봐야 합니다  근데 남산 타워 케이블카를 타로 갈때 지하철 회현역 앞에 있는  요기 사진의 무료 에스카레이터를 꼭 타 봐야 합니다. 요걸 타고 올라가면서 서울 시청도 보구요. 내리면 바로 앞 건물이 케이블카를 타는 곳이라는 사실. 정말 Good 입니다요 ^^</p></a>]\n"
     ]
    }
   ],
   "source": [
    "# webdriver 실행\n",
    "dr = webdriver.Chrome('C:/webdriver/chromedriver.exe')\n",
    "\n",
    "# target page 접근\n",
    "dr.get(\"https://kr.trip.com/travel-guide/attraction/seoul/n-seoul-tower-83001/\")\n",
    "\n",
    "# html source 추출\n",
    "html_source = dr.page_source\n",
    "\n",
    "# BS로 html parsing\n",
    "soup = BeautifulSoup(html_source, 'html.parser')\n",
    "\n",
    "# 원하는 항목의 데이터만 추출\n",
    "\n",
    "# 장소 이름\n",
    "place_name = soup.select('#poi\\.detail\\.overview > div > div.TopBoxStyle-sc-2jpvue-4.cKCoNt > div.top-left > div.top-box > div > div.poi-page-title > h1')\n",
    "# 리뷰 텍스트\n",
    "products = soup.select('#reviews div a')\n",
    "\n",
    "# 결과 확인\n",
    "pprint(place_name)\n",
    "pprint(products)"
   ]
  },
  {
   "cell_type": "markdown",
   "id": "89734f04",
   "metadata": {},
   "source": [
    "## 1페이지에 있는 리뷰들 크롤링"
   ]
  },
  {
   "cell_type": "code",
   "execution_count": 20,
   "id": "441653ce",
   "metadata": {
    "scrolled": false
   },
   "outputs": [
    {
     "name": "stdout",
     "output_type": "stream",
     "text": [
      "\n",
      "남산타워는 서울의 명소로 꼬옥 가봐야 합니다  근데 남산 타워 케이블카를 타로 갈때 지하철 회현역 앞에 있는  요기 사진의 무료 에스카레이터를 꼭 타 봐야 합니다. 요걸 타고 올라가면서 서울 시청도 보구요. 내리면 바로 앞 건물이 케이블카를 타는 곳이라는 사실. 정말 Good 입니다요 ^^\n",
      "\n",
      "여기는대한민국 남산이다 공기가 상당히 좋고 하제운동하기아주적당한 장소다걸어서 정상까시 천천올라가는것을 강추천한다\n",
      "\n",
      "케이블카 왕복을 추천합니다.우리은행 본점 뒤편으로 가면 왼쪽에 남산오르미(공짜)를 이용하여케이블카 타는 곳까지 쉽게 오를 수 있습니다.(명동-남대문-시청-충무로-이태원을 연결)\n",
      "\n",
      "남산타워에서 보이는 야경이 너무 멋있었어요~!\n",
      "\n",
      "여기서 엽서 쓰는거 진짜 추억이 되네요 ㅎㅎ 비싸지 않으니 다들 꼭 써보세요!\n",
      "\n",
      "연인들의 천국, 외국인이면 더욱 서울의 야경을멋지게 즐길수 있습니다.20년만의  서울타워 방문이  아깝지 않았습니다.\n",
      "N서울타워 주소가 어떻게 되나요?TripTraveler:주소: 서울특별시 용산구 용산2가동 남산공원길 105답변 1개\n",
      "N서울타워 주변 추천 명소는 어디인가요?TripTraveler:추천 명소 리스트: 명동,N서울타워,인사동,남산공원,이태원답변 1개\n"
     ]
    }
   ],
   "source": [
    "for i in products:\n",
    "    print(i.get_text())"
   ]
  },
  {
   "cell_type": "code",
   "execution_count": 13,
   "id": "a62ec7e5",
   "metadata": {},
   "outputs": [
    {
     "name": "stdout",
     "output_type": "stream",
     "text": [
      "N서울타워\n"
     ]
    }
   ],
   "source": [
    "# 각 태그의 텍스트 값만 출력\n",
    "for tag in place_name:\n",
    "    print(tag.get_text())"
   ]
  }
 ],
 "metadata": {
  "kernelspec": {
   "display_name": "Python 3 (ipykernel)",
   "language": "python",
   "name": "python3"
  },
  "language_info": {
   "codemirror_mode": {
    "name": "ipython",
    "version": 3
   },
   "file_extension": ".py",
   "mimetype": "text/x-python",
   "name": "python",
   "nbconvert_exporter": "python",
   "pygments_lexer": "ipython3",
   "version": "3.9.13"
  }
 },
 "nbformat": 4,
 "nbformat_minor": 5
}
